{
 "cells": [
  {
   "cell_type": "markdown",
   "id": "d2877e02",
   "metadata": {},
   "source": [
    "# Happiness - Assignment 1"
   ]
  },
  {
   "cell_type": "code",
   "execution_count": 35,
   "id": "e1e9c385",
   "metadata": {},
   "outputs": [],
   "source": [
    "import pandas as pd"
   ]
  },
  {
   "cell_type": "code",
   "execution_count": 36,
   "id": "0704d592",
   "metadata": {},
   "outputs": [
    {
     "data": {
      "text/html": [
       "<div>\n",
       "<style scoped>\n",
       "    .dataframe tbody tr th:only-of-type {\n",
       "        vertical-align: middle;\n",
       "    }\n",
       "\n",
       "    .dataframe tbody tr th {\n",
       "        vertical-align: top;\n",
       "    }\n",
       "\n",
       "    .dataframe thead th {\n",
       "        text-align: right;\n",
       "    }\n",
       "</style>\n",
       "<table border=\"1\" class=\"dataframe\">\n",
       "  <thead>\n",
       "    <tr style=\"text-align: right;\">\n",
       "      <th></th>\n",
       "      <th>Country name</th>\n",
       "      <th>year</th>\n",
       "      <th>Life Ladder</th>\n",
       "      <th>Log GDP per capita</th>\n",
       "      <th>Social support</th>\n",
       "      <th>Healthy life expectancy at birth</th>\n",
       "      <th>Freedom to make life choices</th>\n",
       "      <th>Generosity</th>\n",
       "      <th>Perceptions of corruption</th>\n",
       "      <th>Positive affect</th>\n",
       "      <th>Negative affect</th>\n",
       "    </tr>\n",
       "  </thead>\n",
       "  <tbody>\n",
       "    <tr>\n",
       "      <th>0</th>\n",
       "      <td>Afghanistan</td>\n",
       "      <td>2008</td>\n",
       "      <td>3.723590</td>\n",
       "      <td>7.350416</td>\n",
       "      <td>0.450662</td>\n",
       "      <td>50.500000</td>\n",
       "      <td>0.718114</td>\n",
       "      <td>0.167652</td>\n",
       "      <td>0.881686</td>\n",
       "      <td>0.414297</td>\n",
       "      <td>0.258195</td>\n",
       "    </tr>\n",
       "    <tr>\n",
       "      <th>1</th>\n",
       "      <td>Afghanistan</td>\n",
       "      <td>2009</td>\n",
       "      <td>4.401778</td>\n",
       "      <td>7.508646</td>\n",
       "      <td>0.552308</td>\n",
       "      <td>50.799999</td>\n",
       "      <td>0.678896</td>\n",
       "      <td>0.190809</td>\n",
       "      <td>0.850035</td>\n",
       "      <td>0.481421</td>\n",
       "      <td>0.237092</td>\n",
       "    </tr>\n",
       "    <tr>\n",
       "      <th>2</th>\n",
       "      <td>Afghanistan</td>\n",
       "      <td>2010</td>\n",
       "      <td>4.758381</td>\n",
       "      <td>7.613900</td>\n",
       "      <td>0.539075</td>\n",
       "      <td>51.099998</td>\n",
       "      <td>0.600127</td>\n",
       "      <td>0.121316</td>\n",
       "      <td>0.706766</td>\n",
       "      <td>0.516907</td>\n",
       "      <td>0.275324</td>\n",
       "    </tr>\n",
       "    <tr>\n",
       "      <th>3</th>\n",
       "      <td>Afghanistan</td>\n",
       "      <td>2011</td>\n",
       "      <td>3.831719</td>\n",
       "      <td>7.581259</td>\n",
       "      <td>0.521104</td>\n",
       "      <td>51.400002</td>\n",
       "      <td>0.495901</td>\n",
       "      <td>0.163571</td>\n",
       "      <td>0.731109</td>\n",
       "      <td>0.479835</td>\n",
       "      <td>0.267175</td>\n",
       "    </tr>\n",
       "    <tr>\n",
       "      <th>4</th>\n",
       "      <td>Afghanistan</td>\n",
       "      <td>2012</td>\n",
       "      <td>3.782938</td>\n",
       "      <td>7.660506</td>\n",
       "      <td>0.520637</td>\n",
       "      <td>51.700001</td>\n",
       "      <td>0.530935</td>\n",
       "      <td>0.237588</td>\n",
       "      <td>0.775620</td>\n",
       "      <td>0.613513</td>\n",
       "      <td>0.267919</td>\n",
       "    </tr>\n",
       "  </tbody>\n",
       "</table>\n",
       "</div>"
      ],
      "text/plain": [
       "  Country name  year  Life Ladder  Log GDP per capita  Social support  \\\n",
       "0  Afghanistan  2008     3.723590            7.350416        0.450662   \n",
       "1  Afghanistan  2009     4.401778            7.508646        0.552308   \n",
       "2  Afghanistan  2010     4.758381            7.613900        0.539075   \n",
       "3  Afghanistan  2011     3.831719            7.581259        0.521104   \n",
       "4  Afghanistan  2012     3.782938            7.660506        0.520637   \n",
       "\n",
       "   Healthy life expectancy at birth  Freedom to make life choices  Generosity  \\\n",
       "0                         50.500000                      0.718114    0.167652   \n",
       "1                         50.799999                      0.678896    0.190809   \n",
       "2                         51.099998                      0.600127    0.121316   \n",
       "3                         51.400002                      0.495901    0.163571   \n",
       "4                         51.700001                      0.530935    0.237588   \n",
       "\n",
       "   Perceptions of corruption  Positive affect  Negative affect  \n",
       "0                   0.881686         0.414297         0.258195  \n",
       "1                   0.850035         0.481421         0.237092  \n",
       "2                   0.706766         0.516907         0.275324  \n",
       "3                   0.731109         0.479835         0.267175  \n",
       "4                   0.775620         0.613513         0.267919  "
      ]
     },
     "execution_count": 36,
     "metadata": {},
     "output_type": "execute_result"
    }
   ],
   "source": [
    "df = pd.read_excel('DataForTable2.1WHR2023.xls')\n",
    "df.head()"
   ]
  },
  {
   "cell_type": "markdown",
   "id": "c5ebc01b",
   "metadata": {},
   "source": [
    "## Q1. \n",
    "### What is your evaluation of the quality of the data?"
   ]
  },
  {
   "cell_type": "markdown",
   "id": "997e6335",
   "metadata": {},
   "source": [
    "> - All columns are well-explained in the Statistical Appendix.\n",
    "> - Some data, except for Country name, year, Life Ladder, are missing, but this accounts for less than 5%. \n",
    "> - Most of the data falls within the correct range as descirbed in the Statistical Appendix.\n",
    "> - Overall, the data is quite clean for analysis."
   ]
  },
  {
   "cell_type": "code",
   "execution_count": 37,
   "id": "70dedb3f",
   "metadata": {},
   "outputs": [
    {
     "data": {
      "text/plain": [
       "Country name                          0\n",
       "year                                  0\n",
       "Life Ladder                           0\n",
       "Log GDP per capita                   20\n",
       "Social support                       13\n",
       "Healthy life expectancy at birth     54\n",
       "Freedom to make life choices         33\n",
       "Generosity                           73\n",
       "Perceptions of corruption           116\n",
       "Positive affect                      24\n",
       "Negative affect                      16\n",
       "dtype: int64"
      ]
     },
     "execution_count": 37,
     "metadata": {},
     "output_type": "execute_result"
    }
   ],
   "source": [
    "df.isna().sum()"
   ]
  },
  {
   "cell_type": "code",
   "execution_count": 38,
   "id": "41115b52",
   "metadata": {},
   "outputs": [
    {
     "data": {
      "text/html": [
       "<div>\n",
       "<style scoped>\n",
       "    .dataframe tbody tr th:only-of-type {\n",
       "        vertical-align: middle;\n",
       "    }\n",
       "\n",
       "    .dataframe tbody tr th {\n",
       "        vertical-align: top;\n",
       "    }\n",
       "\n",
       "    .dataframe thead th {\n",
       "        text-align: right;\n",
       "    }\n",
       "</style>\n",
       "<table border=\"1\" class=\"dataframe\">\n",
       "  <thead>\n",
       "    <tr style=\"text-align: right;\">\n",
       "      <th></th>\n",
       "      <th>year</th>\n",
       "      <th>Life Ladder</th>\n",
       "      <th>Log GDP per capita</th>\n",
       "      <th>Social support</th>\n",
       "      <th>Healthy life expectancy at birth</th>\n",
       "      <th>Freedom to make life choices</th>\n",
       "      <th>Generosity</th>\n",
       "      <th>Perceptions of corruption</th>\n",
       "      <th>Positive affect</th>\n",
       "      <th>Negative affect</th>\n",
       "    </tr>\n",
       "  </thead>\n",
       "  <tbody>\n",
       "    <tr>\n",
       "      <th>count</th>\n",
       "      <td>2199.000000</td>\n",
       "      <td>2199.000000</td>\n",
       "      <td>2179.000000</td>\n",
       "      <td>2186.000000</td>\n",
       "      <td>2145.000000</td>\n",
       "      <td>2166.000000</td>\n",
       "      <td>2126.000000</td>\n",
       "      <td>2083.000000</td>\n",
       "      <td>2175.000000</td>\n",
       "      <td>2183.000000</td>\n",
       "    </tr>\n",
       "    <tr>\n",
       "      <th>mean</th>\n",
       "      <td>2014.161437</td>\n",
       "      <td>5.479226</td>\n",
       "      <td>9.389766</td>\n",
       "      <td>0.810679</td>\n",
       "      <td>63.294583</td>\n",
       "      <td>0.747858</td>\n",
       "      <td>0.000096</td>\n",
       "      <td>0.745195</td>\n",
       "      <td>0.652143</td>\n",
       "      <td>0.271501</td>\n",
       "    </tr>\n",
       "    <tr>\n",
       "      <th>std</th>\n",
       "      <td>4.718736</td>\n",
       "      <td>1.125529</td>\n",
       "      <td>1.153387</td>\n",
       "      <td>0.120952</td>\n",
       "      <td>6.901104</td>\n",
       "      <td>0.140150</td>\n",
       "      <td>0.161083</td>\n",
       "      <td>0.185837</td>\n",
       "      <td>0.105922</td>\n",
       "      <td>0.086875</td>\n",
       "    </tr>\n",
       "    <tr>\n",
       "      <th>min</th>\n",
       "      <td>2005.000000</td>\n",
       "      <td>1.281271</td>\n",
       "      <td>5.526723</td>\n",
       "      <td>0.228217</td>\n",
       "      <td>6.720000</td>\n",
       "      <td>0.257534</td>\n",
       "      <td>-0.337527</td>\n",
       "      <td>0.035198</td>\n",
       "      <td>0.178886</td>\n",
       "      <td>0.082737</td>\n",
       "    </tr>\n",
       "    <tr>\n",
       "      <th>25%</th>\n",
       "      <td>2010.000000</td>\n",
       "      <td>4.646750</td>\n",
       "      <td>8.499764</td>\n",
       "      <td>0.746609</td>\n",
       "      <td>59.119999</td>\n",
       "      <td>0.656528</td>\n",
       "      <td>-0.112116</td>\n",
       "      <td>0.688139</td>\n",
       "      <td>0.571684</td>\n",
       "      <td>0.207660</td>\n",
       "    </tr>\n",
       "    <tr>\n",
       "      <th>50%</th>\n",
       "      <td>2014.000000</td>\n",
       "      <td>5.432437</td>\n",
       "      <td>9.498955</td>\n",
       "      <td>0.835535</td>\n",
       "      <td>65.050003</td>\n",
       "      <td>0.769821</td>\n",
       "      <td>-0.022671</td>\n",
       "      <td>0.799654</td>\n",
       "      <td>0.663063</td>\n",
       "      <td>0.260671</td>\n",
       "    </tr>\n",
       "    <tr>\n",
       "      <th>75%</th>\n",
       "      <td>2018.000000</td>\n",
       "      <td>6.309460</td>\n",
       "      <td>10.373216</td>\n",
       "      <td>0.904792</td>\n",
       "      <td>68.500000</td>\n",
       "      <td>0.859382</td>\n",
       "      <td>0.092070</td>\n",
       "      <td>0.868827</td>\n",
       "      <td>0.737936</td>\n",
       "      <td>0.322894</td>\n",
       "    </tr>\n",
       "    <tr>\n",
       "      <th>max</th>\n",
       "      <td>2022.000000</td>\n",
       "      <td>8.018934</td>\n",
       "      <td>11.663788</td>\n",
       "      <td>0.987343</td>\n",
       "      <td>74.474998</td>\n",
       "      <td>0.985178</td>\n",
       "      <td>0.702708</td>\n",
       "      <td>0.983276</td>\n",
       "      <td>0.883586</td>\n",
       "      <td>0.704590</td>\n",
       "    </tr>\n",
       "  </tbody>\n",
       "</table>\n",
       "</div>"
      ],
      "text/plain": [
       "              year  Life Ladder  Log GDP per capita  Social support  \\\n",
       "count  2199.000000  2199.000000         2179.000000     2186.000000   \n",
       "mean   2014.161437     5.479226            9.389766        0.810679   \n",
       "std       4.718736     1.125529            1.153387        0.120952   \n",
       "min    2005.000000     1.281271            5.526723        0.228217   \n",
       "25%    2010.000000     4.646750            8.499764        0.746609   \n",
       "50%    2014.000000     5.432437            9.498955        0.835535   \n",
       "75%    2018.000000     6.309460           10.373216        0.904792   \n",
       "max    2022.000000     8.018934           11.663788        0.987343   \n",
       "\n",
       "       Healthy life expectancy at birth  Freedom to make life choices  \\\n",
       "count                       2145.000000                   2166.000000   \n",
       "mean                          63.294583                      0.747858   \n",
       "std                            6.901104                      0.140150   \n",
       "min                            6.720000                      0.257534   \n",
       "25%                           59.119999                      0.656528   \n",
       "50%                           65.050003                      0.769821   \n",
       "75%                           68.500000                      0.859382   \n",
       "max                           74.474998                      0.985178   \n",
       "\n",
       "        Generosity  Perceptions of corruption  Positive affect  \\\n",
       "count  2126.000000                2083.000000      2175.000000   \n",
       "mean      0.000096                   0.745195         0.652143   \n",
       "std       0.161083                   0.185837         0.105922   \n",
       "min      -0.337527                   0.035198         0.178886   \n",
       "25%      -0.112116                   0.688139         0.571684   \n",
       "50%      -0.022671                   0.799654         0.663063   \n",
       "75%       0.092070                   0.868827         0.737936   \n",
       "max       0.702708                   0.983276         0.883586   \n",
       "\n",
       "       Negative affect  \n",
       "count      2183.000000  \n",
       "mean          0.271501  \n",
       "std           0.086875  \n",
       "min           0.082737  \n",
       "25%           0.207660  \n",
       "50%           0.260671  \n",
       "75%           0.322894  \n",
       "max           0.704590  "
      ]
     },
     "execution_count": 38,
     "metadata": {},
     "output_type": "execute_result"
    }
   ],
   "source": [
    "df.describe()"
   ]
  },
  {
   "cell_type": "markdown",
   "id": "a5d85725",
   "metadata": {},
   "source": [
    "### How large is the dataset? \n",
    "> The total size of the data is quite small, comprising 2,199 entires."
   ]
  },
  {
   "cell_type": "code",
   "execution_count": 39,
   "id": "8ff19790",
   "metadata": {},
   "outputs": [
    {
     "data": {
      "text/plain": [
       "(2199, 11)"
      ]
     },
     "execution_count": 39,
     "metadata": {},
     "output_type": "execute_result"
    }
   ],
   "source": [
    "df.shape"
   ]
  },
  {
   "cell_type": "markdown",
   "id": "78d064ab",
   "metadata": {},
   "source": [
    "### What are the features (columns) and how are they represented? \n",
    "\n",
    "> The features include `Country name`, `year`, `Life Ladder`, `Log GDP per capita`, `Social support`, `Healthy life expectancy at birth`, `Freedom to make life choices`, `Generosity`, `Perceptions of corruption`, `Positive affect`, `Negative affect`.\n",
    "\n",
    "> `Country name` is represented as strings comprising 165 distinct countries.\n",
    "\n",
    "> `year` is represented as integer, ranging from 2005 to 2022. \n",
    "\n",
    "> The columns `Life Ladder`, `Log GDP per capita`, `Social support`, `Healthy life expectancy at birth`, `Freedom to make life choices`, `Generosity`, `Perceptions of corruption`, `Positive affect` are represented as floating-point numbers. Most of these columns have some missing data, except for the `Life Ladder` column."
   ]
  },
  {
   "cell_type": "code",
   "execution_count": 40,
   "id": "82fff6a2",
   "metadata": {},
   "outputs": [
    {
     "data": {
      "text/plain": [
       "165"
      ]
     },
     "execution_count": 40,
     "metadata": {},
     "output_type": "execute_result"
    }
   ],
   "source": [
    "# The Country name of entries.\n",
    "df['Country name'].nunique()"
   ]
  },
  {
   "cell_type": "code",
   "execution_count": 41,
   "id": "af6255ca",
   "metadata": {},
   "outputs": [
    {
     "data": {
      "text/plain": [
       "(2005, 2022)"
      ]
     },
     "execution_count": 41,
     "metadata": {},
     "output_type": "execute_result"
    }
   ],
   "source": [
    "# The range of year. \n",
    "df['year'].min(), df['year'].max()"
   ]
  },
  {
   "cell_type": "code",
   "execution_count": 42,
   "id": "727c4ff8",
   "metadata": {},
   "outputs": [
    {
     "name": "stdout",
     "output_type": "stream",
     "text": [
      "<class 'pandas.core.frame.DataFrame'>\n",
      "RangeIndex: 2199 entries, 0 to 2198\n",
      "Data columns (total 11 columns):\n",
      " #   Column                            Non-Null Count  Dtype  \n",
      "---  ------                            --------------  -----  \n",
      " 0   Country name                      2199 non-null   object \n",
      " 1   year                              2199 non-null   int64  \n",
      " 2   Life Ladder                       2199 non-null   float64\n",
      " 3   Log GDP per capita                2179 non-null   float64\n",
      " 4   Social support                    2186 non-null   float64\n",
      " 5   Healthy life expectancy at birth  2145 non-null   float64\n",
      " 6   Freedom to make life choices      2166 non-null   float64\n",
      " 7   Generosity                        2126 non-null   float64\n",
      " 8   Perceptions of corruption         2083 non-null   float64\n",
      " 9   Positive affect                   2175 non-null   float64\n",
      " 10  Negative affect                   2183 non-null   float64\n",
      "dtypes: float64(9), int64(1), object(1)\n",
      "memory usage: 189.1+ KB\n"
     ]
    }
   ],
   "source": [
    "# More details features.\n",
    "df.info()"
   ]
  },
  {
   "cell_type": "code",
   "execution_count": 43,
   "id": "e396c5d0",
   "metadata": {},
   "outputs": [
    {
     "data": {
      "text/html": [
       "<div>\n",
       "<style scoped>\n",
       "    .dataframe tbody tr th:only-of-type {\n",
       "        vertical-align: middle;\n",
       "    }\n",
       "\n",
       "    .dataframe tbody tr th {\n",
       "        vertical-align: top;\n",
       "    }\n",
       "\n",
       "    .dataframe thead th {\n",
       "        text-align: right;\n",
       "    }\n",
       "</style>\n",
       "<table border=\"1\" class=\"dataframe\">\n",
       "  <thead>\n",
       "    <tr style=\"text-align: right;\">\n",
       "      <th></th>\n",
       "      <th>year</th>\n",
       "      <th>Life Ladder</th>\n",
       "      <th>Log GDP per capita</th>\n",
       "      <th>Social support</th>\n",
       "      <th>Healthy life expectancy at birth</th>\n",
       "      <th>Freedom to make life choices</th>\n",
       "      <th>Generosity</th>\n",
       "      <th>Perceptions of corruption</th>\n",
       "      <th>Positive affect</th>\n",
       "      <th>Negative affect</th>\n",
       "    </tr>\n",
       "  </thead>\n",
       "  <tbody>\n",
       "    <tr>\n",
       "      <th>count</th>\n",
       "      <td>2199.000000</td>\n",
       "      <td>2199.000000</td>\n",
       "      <td>2179.000000</td>\n",
       "      <td>2186.000000</td>\n",
       "      <td>2145.000000</td>\n",
       "      <td>2166.000000</td>\n",
       "      <td>2126.000000</td>\n",
       "      <td>2083.000000</td>\n",
       "      <td>2175.000000</td>\n",
       "      <td>2183.000000</td>\n",
       "    </tr>\n",
       "    <tr>\n",
       "      <th>mean</th>\n",
       "      <td>2014.161437</td>\n",
       "      <td>5.479226</td>\n",
       "      <td>9.389766</td>\n",
       "      <td>0.810679</td>\n",
       "      <td>63.294583</td>\n",
       "      <td>0.747858</td>\n",
       "      <td>0.000096</td>\n",
       "      <td>0.745195</td>\n",
       "      <td>0.652143</td>\n",
       "      <td>0.271501</td>\n",
       "    </tr>\n",
       "    <tr>\n",
       "      <th>std</th>\n",
       "      <td>4.718736</td>\n",
       "      <td>1.125529</td>\n",
       "      <td>1.153387</td>\n",
       "      <td>0.120952</td>\n",
       "      <td>6.901104</td>\n",
       "      <td>0.140150</td>\n",
       "      <td>0.161083</td>\n",
       "      <td>0.185837</td>\n",
       "      <td>0.105922</td>\n",
       "      <td>0.086875</td>\n",
       "    </tr>\n",
       "    <tr>\n",
       "      <th>min</th>\n",
       "      <td>2005.000000</td>\n",
       "      <td>1.281271</td>\n",
       "      <td>5.526723</td>\n",
       "      <td>0.228217</td>\n",
       "      <td>6.720000</td>\n",
       "      <td>0.257534</td>\n",
       "      <td>-0.337527</td>\n",
       "      <td>0.035198</td>\n",
       "      <td>0.178886</td>\n",
       "      <td>0.082737</td>\n",
       "    </tr>\n",
       "    <tr>\n",
       "      <th>25%</th>\n",
       "      <td>2010.000000</td>\n",
       "      <td>4.646750</td>\n",
       "      <td>8.499764</td>\n",
       "      <td>0.746609</td>\n",
       "      <td>59.119999</td>\n",
       "      <td>0.656528</td>\n",
       "      <td>-0.112116</td>\n",
       "      <td>0.688139</td>\n",
       "      <td>0.571684</td>\n",
       "      <td>0.207660</td>\n",
       "    </tr>\n",
       "    <tr>\n",
       "      <th>50%</th>\n",
       "      <td>2014.000000</td>\n",
       "      <td>5.432437</td>\n",
       "      <td>9.498955</td>\n",
       "      <td>0.835535</td>\n",
       "      <td>65.050003</td>\n",
       "      <td>0.769821</td>\n",
       "      <td>-0.022671</td>\n",
       "      <td>0.799654</td>\n",
       "      <td>0.663063</td>\n",
       "      <td>0.260671</td>\n",
       "    </tr>\n",
       "    <tr>\n",
       "      <th>75%</th>\n",
       "      <td>2018.000000</td>\n",
       "      <td>6.309460</td>\n",
       "      <td>10.373216</td>\n",
       "      <td>0.904792</td>\n",
       "      <td>68.500000</td>\n",
       "      <td>0.859382</td>\n",
       "      <td>0.092070</td>\n",
       "      <td>0.868827</td>\n",
       "      <td>0.737936</td>\n",
       "      <td>0.322894</td>\n",
       "    </tr>\n",
       "    <tr>\n",
       "      <th>max</th>\n",
       "      <td>2022.000000</td>\n",
       "      <td>8.018934</td>\n",
       "      <td>11.663788</td>\n",
       "      <td>0.987343</td>\n",
       "      <td>74.474998</td>\n",
       "      <td>0.985178</td>\n",
       "      <td>0.702708</td>\n",
       "      <td>0.983276</td>\n",
       "      <td>0.883586</td>\n",
       "      <td>0.704590</td>\n",
       "    </tr>\n",
       "  </tbody>\n",
       "</table>\n",
       "</div>"
      ],
      "text/plain": [
       "              year  Life Ladder  Log GDP per capita  Social support  \\\n",
       "count  2199.000000  2199.000000         2179.000000     2186.000000   \n",
       "mean   2014.161437     5.479226            9.389766        0.810679   \n",
       "std       4.718736     1.125529            1.153387        0.120952   \n",
       "min    2005.000000     1.281271            5.526723        0.228217   \n",
       "25%    2010.000000     4.646750            8.499764        0.746609   \n",
       "50%    2014.000000     5.432437            9.498955        0.835535   \n",
       "75%    2018.000000     6.309460           10.373216        0.904792   \n",
       "max    2022.000000     8.018934           11.663788        0.987343   \n",
       "\n",
       "       Healthy life expectancy at birth  Freedom to make life choices  \\\n",
       "count                       2145.000000                   2166.000000   \n",
       "mean                          63.294583                      0.747858   \n",
       "std                            6.901104                      0.140150   \n",
       "min                            6.720000                      0.257534   \n",
       "25%                           59.119999                      0.656528   \n",
       "50%                           65.050003                      0.769821   \n",
       "75%                           68.500000                      0.859382   \n",
       "max                           74.474998                      0.985178   \n",
       "\n",
       "        Generosity  Perceptions of corruption  Positive affect  \\\n",
       "count  2126.000000                2083.000000      2175.000000   \n",
       "mean      0.000096                   0.745195         0.652143   \n",
       "std       0.161083                   0.185837         0.105922   \n",
       "min      -0.337527                   0.035198         0.178886   \n",
       "25%      -0.112116                   0.688139         0.571684   \n",
       "50%      -0.022671                   0.799654         0.663063   \n",
       "75%       0.092070                   0.868827         0.737936   \n",
       "max       0.702708                   0.983276         0.883586   \n",
       "\n",
       "       Negative affect  \n",
       "count      2183.000000  \n",
       "mean          0.271501  \n",
       "std           0.086875  \n",
       "min           0.082737  \n",
       "25%           0.207660  \n",
       "50%           0.260671  \n",
       "75%           0.322894  \n",
       "max           0.704590  "
      ]
     },
     "execution_count": 43,
     "metadata": {},
     "output_type": "execute_result"
    }
   ],
   "source": [
    "# More details features.\n",
    "df.describe()"
   ]
  },
  {
   "cell_type": "markdown",
   "id": "5aed2ab3",
   "metadata": {},
   "source": [
    "### Are there any interesting correlations in the data?"
   ]
  },
  {
   "cell_type": "markdown",
   "id": "7aeaf8cd",
   "metadata": {},
   "source": [
    "> - Log GDP Per captia and Healthy life expectancy at birth shows the strong positive correlation, which is 0.82.\n",
    "> - Life Ladder and Healthy life expectancy at birth shows the strong postive correlation, which is 0.71. \n",
    "> - Life Ladder and Log GDP per capita shows the strong positive correlation, which is 0.78\n",
    "> - Social support and Life ladder shows the strong positive correlation, which is 0.72"
   ]
  },
  {
   "cell_type": "code",
   "execution_count": 44,
   "id": "ba7ff333",
   "metadata": {},
   "outputs": [
    {
     "data": {
      "text/html": [
       "<div>\n",
       "<style scoped>\n",
       "    .dataframe tbody tr th:only-of-type {\n",
       "        vertical-align: middle;\n",
       "    }\n",
       "\n",
       "    .dataframe tbody tr th {\n",
       "        vertical-align: top;\n",
       "    }\n",
       "\n",
       "    .dataframe thead th {\n",
       "        text-align: right;\n",
       "    }\n",
       "</style>\n",
       "<table border=\"1\" class=\"dataframe\">\n",
       "  <thead>\n",
       "    <tr style=\"text-align: right;\">\n",
       "      <th></th>\n",
       "      <th>year</th>\n",
       "      <th>Life Ladder</th>\n",
       "      <th>Log GDP per capita</th>\n",
       "      <th>Social support</th>\n",
       "      <th>Healthy life expectancy at birth</th>\n",
       "      <th>Freedom to make life choices</th>\n",
       "      <th>Generosity</th>\n",
       "      <th>Perceptions of corruption</th>\n",
       "      <th>Positive affect</th>\n",
       "      <th>Negative affect</th>\n",
       "    </tr>\n",
       "  </thead>\n",
       "  <tbody>\n",
       "    <tr>\n",
       "      <th>year</th>\n",
       "      <td>1.000000</td>\n",
       "      <td>0.045943</td>\n",
       "      <td>0.077772</td>\n",
       "      <td>-0.029750</td>\n",
       "      <td>0.163500</td>\n",
       "      <td>0.234105</td>\n",
       "      <td>0.005726</td>\n",
       "      <td>-0.081358</td>\n",
       "      <td>0.019182</td>\n",
       "      <td>0.205369</td>\n",
       "    </tr>\n",
       "    <tr>\n",
       "      <th>Life Ladder</th>\n",
       "      <td>0.045943</td>\n",
       "      <td>1.000000</td>\n",
       "      <td>0.784871</td>\n",
       "      <td>0.721663</td>\n",
       "      <td>0.713493</td>\n",
       "      <td>0.534532</td>\n",
       "      <td>0.181658</td>\n",
       "      <td>-0.431569</td>\n",
       "      <td>0.518207</td>\n",
       "      <td>-0.339992</td>\n",
       "    </tr>\n",
       "    <tr>\n",
       "      <th>Log GDP per capita</th>\n",
       "      <td>0.077772</td>\n",
       "      <td>0.784871</td>\n",
       "      <td>1.000000</td>\n",
       "      <td>0.683619</td>\n",
       "      <td>0.818126</td>\n",
       "      <td>0.367560</td>\n",
       "      <td>-0.000800</td>\n",
       "      <td>-0.352884</td>\n",
       "      <td>0.237986</td>\n",
       "      <td>-0.247560</td>\n",
       "    </tr>\n",
       "    <tr>\n",
       "      <th>Social support</th>\n",
       "      <td>-0.029750</td>\n",
       "      <td>0.721663</td>\n",
       "      <td>0.683619</td>\n",
       "      <td>1.000000</td>\n",
       "      <td>0.597682</td>\n",
       "      <td>0.409439</td>\n",
       "      <td>0.068593</td>\n",
       "      <td>-0.222584</td>\n",
       "      <td>0.431139</td>\n",
       "      <td>-0.441800</td>\n",
       "    </tr>\n",
       "    <tr>\n",
       "      <th>Healthy life expectancy at birth</th>\n",
       "      <td>0.163500</td>\n",
       "      <td>0.713493</td>\n",
       "      <td>0.818126</td>\n",
       "      <td>0.597682</td>\n",
       "      <td>1.000000</td>\n",
       "      <td>0.373448</td>\n",
       "      <td>0.010876</td>\n",
       "      <td>-0.299055</td>\n",
       "      <td>0.223119</td>\n",
       "      <td>-0.140726</td>\n",
       "    </tr>\n",
       "    <tr>\n",
       "      <th>Freedom to make life choices</th>\n",
       "      <td>0.234105</td>\n",
       "      <td>0.534532</td>\n",
       "      <td>0.367560</td>\n",
       "      <td>0.409439</td>\n",
       "      <td>0.373448</td>\n",
       "      <td>1.000000</td>\n",
       "      <td>0.325107</td>\n",
       "      <td>-0.476537</td>\n",
       "      <td>0.578752</td>\n",
       "      <td>-0.275470</td>\n",
       "    </tr>\n",
       "    <tr>\n",
       "      <th>Generosity</th>\n",
       "      <td>0.005726</td>\n",
       "      <td>0.181658</td>\n",
       "      <td>-0.000800</td>\n",
       "      <td>0.068593</td>\n",
       "      <td>0.010876</td>\n",
       "      <td>0.325107</td>\n",
       "      <td>1.000000</td>\n",
       "      <td>-0.279494</td>\n",
       "      <td>0.307140</td>\n",
       "      <td>-0.080837</td>\n",
       "    </tr>\n",
       "    <tr>\n",
       "      <th>Perceptions of corruption</th>\n",
       "      <td>-0.081358</td>\n",
       "      <td>-0.431569</td>\n",
       "      <td>-0.352884</td>\n",
       "      <td>-0.222584</td>\n",
       "      <td>-0.299055</td>\n",
       "      <td>-0.476537</td>\n",
       "      <td>-0.279494</td>\n",
       "      <td>1.000000</td>\n",
       "      <td>-0.280620</td>\n",
       "      <td>0.266267</td>\n",
       "    </tr>\n",
       "    <tr>\n",
       "      <th>Positive affect</th>\n",
       "      <td>0.019182</td>\n",
       "      <td>0.518207</td>\n",
       "      <td>0.237986</td>\n",
       "      <td>0.431139</td>\n",
       "      <td>0.223119</td>\n",
       "      <td>0.578752</td>\n",
       "      <td>0.307140</td>\n",
       "      <td>-0.280620</td>\n",
       "      <td>1.000000</td>\n",
       "      <td>-0.330236</td>\n",
       "    </tr>\n",
       "    <tr>\n",
       "      <th>Negative affect</th>\n",
       "      <td>0.205369</td>\n",
       "      <td>-0.339992</td>\n",
       "      <td>-0.247560</td>\n",
       "      <td>-0.441800</td>\n",
       "      <td>-0.140726</td>\n",
       "      <td>-0.275470</td>\n",
       "      <td>-0.080837</td>\n",
       "      <td>0.266267</td>\n",
       "      <td>-0.330236</td>\n",
       "      <td>1.000000</td>\n",
       "    </tr>\n",
       "  </tbody>\n",
       "</table>\n",
       "</div>"
      ],
      "text/plain": [
       "                                      year  Life Ladder  Log GDP per capita  \\\n",
       "year                              1.000000     0.045943            0.077772   \n",
       "Life Ladder                       0.045943     1.000000            0.784871   \n",
       "Log GDP per capita                0.077772     0.784871            1.000000   \n",
       "Social support                   -0.029750     0.721663            0.683619   \n",
       "Healthy life expectancy at birth  0.163500     0.713493            0.818126   \n",
       "Freedom to make life choices      0.234105     0.534532            0.367560   \n",
       "Generosity                        0.005726     0.181658           -0.000800   \n",
       "Perceptions of corruption        -0.081358    -0.431569           -0.352884   \n",
       "Positive affect                   0.019182     0.518207            0.237986   \n",
       "Negative affect                   0.205369    -0.339992           -0.247560   \n",
       "\n",
       "                                  Social support  \\\n",
       "year                                   -0.029750   \n",
       "Life Ladder                             0.721663   \n",
       "Log GDP per capita                      0.683619   \n",
       "Social support                          1.000000   \n",
       "Healthy life expectancy at birth        0.597682   \n",
       "Freedom to make life choices            0.409439   \n",
       "Generosity                              0.068593   \n",
       "Perceptions of corruption              -0.222584   \n",
       "Positive affect                         0.431139   \n",
       "Negative affect                        -0.441800   \n",
       "\n",
       "                                  Healthy life expectancy at birth  \\\n",
       "year                                                      0.163500   \n",
       "Life Ladder                                               0.713493   \n",
       "Log GDP per capita                                        0.818126   \n",
       "Social support                                            0.597682   \n",
       "Healthy life expectancy at birth                          1.000000   \n",
       "Freedom to make life choices                              0.373448   \n",
       "Generosity                                                0.010876   \n",
       "Perceptions of corruption                                -0.299055   \n",
       "Positive affect                                           0.223119   \n",
       "Negative affect                                          -0.140726   \n",
       "\n",
       "                                  Freedom to make life choices  Generosity  \\\n",
       "year                                                  0.234105    0.005726   \n",
       "Life Ladder                                           0.534532    0.181658   \n",
       "Log GDP per capita                                    0.367560   -0.000800   \n",
       "Social support                                        0.409439    0.068593   \n",
       "Healthy life expectancy at birth                      0.373448    0.010876   \n",
       "Freedom to make life choices                          1.000000    0.325107   \n",
       "Generosity                                            0.325107    1.000000   \n",
       "Perceptions of corruption                            -0.476537   -0.279494   \n",
       "Positive affect                                       0.578752    0.307140   \n",
       "Negative affect                                      -0.275470   -0.080837   \n",
       "\n",
       "                                  Perceptions of corruption  Positive affect  \\\n",
       "year                                              -0.081358         0.019182   \n",
       "Life Ladder                                       -0.431569         0.518207   \n",
       "Log GDP per capita                                -0.352884         0.237986   \n",
       "Social support                                    -0.222584         0.431139   \n",
       "Healthy life expectancy at birth                  -0.299055         0.223119   \n",
       "Freedom to make life choices                      -0.476537         0.578752   \n",
       "Generosity                                        -0.279494         0.307140   \n",
       "Perceptions of corruption                          1.000000        -0.280620   \n",
       "Positive affect                                   -0.280620         1.000000   \n",
       "Negative affect                                    0.266267        -0.330236   \n",
       "\n",
       "                                  Negative affect  \n",
       "year                                     0.205369  \n",
       "Life Ladder                             -0.339992  \n",
       "Log GDP per capita                      -0.247560  \n",
       "Social support                          -0.441800  \n",
       "Healthy life expectancy at birth        -0.140726  \n",
       "Freedom to make life choices            -0.275470  \n",
       "Generosity                              -0.080837  \n",
       "Perceptions of corruption                0.266267  \n",
       "Positive affect                         -0.330236  \n",
       "Negative affect                          1.000000  "
      ]
     },
     "execution_count": 44,
     "metadata": {},
     "output_type": "execute_result"
    }
   ],
   "source": [
    "df.drop(['Country name'], axis=1).corr()"
   ]
  },
  {
   "cell_type": "code",
   "execution_count": 45,
   "id": "39a34914",
   "metadata": {},
   "outputs": [
    {
     "data": {
      "text/plain": [
       "<Axes: >"
      ]
     },
     "execution_count": 45,
     "metadata": {},
     "output_type": "execute_result"
    },
    {
     "data": {
      "image/png": "[encoded data removed]",
      "text/plain": [
       "<Figure size 640x480 with 2 Axes>"
      ]
     },
     "metadata": {},
     "output_type": "display_data"
    }
   ],
   "source": [
    "import seaborn as sns \n",
    "sns.heatmap(df.drop(['Country name'], axis=1).corr(), annot=True)"
   ]
  },
  {
   "cell_type": "code",
   "execution_count": null,
   "id": "f6f92e95",
   "metadata": {},
   "outputs": [],
   "source": [
    "import seaborn as sns; \n",
    "sns.pairplot(df)"
   ]
  },
  {
   "cell_type": "markdown",
   "id": "ab88eecc",
   "metadata": {},
   "source": [
    "### Are there any interesting distributions in the (numeric) features? "
   ]
  },
  {
   "cell_type": "markdown",
   "id": "302a4e0a",
   "metadata": {},
   "source": [
    "> Features about Log GDP per capita, Social support, Healthy life expectancy at birth, Freedom to make life choices, Generosity, Perceptions of corruption, Positive affect, Negative affect exhibit a bell-shape. \n",
    "\n",
    "> The skewness value for Social support, Healthy life expectancy at birth, Perceptions of corruption are less than -1, indicating the distribution with tail extending towards more negative values. "
   ]
  },
  {
   "cell_type": "code",
   "execution_count": null,
   "id": "1fda9d1b",
   "metadata": {},
   "outputs": [],
   "source": [
    "columns =['Life Ladder', 'Log GDP per capita', 'Social support', 'Healthy life expectancy at birth', 'Freedom to make life choices', 'Generosity', 'Perceptions of corruption', 'Positive affect', 'Negative affect']\n",
    "for c in columns:\n",
    "    print(c, df[c].skew())"
   ]
  },
  {
   "cell_type": "code",
   "execution_count": null,
   "id": "d1f36e59",
   "metadata": {},
   "outputs": [],
   "source": [
    "df.hist(bins=50, figsize=(20, 9))"
   ]
  },
  {
   "cell_type": "markdown",
   "id": "702c1079",
   "metadata": {},
   "source": [
    "### Can you identify any limitations, missing values or distortions of the data? What would you like to see in this dataset?"
   ]
  },
  {
   "cell_type": "markdown",
   "id": "4dca2078",
   "metadata": {},
   "source": [
    "> The features, except for Country name, year, Life Ladder, have some missing values, but these account for less than 5% at most. \n",
    "\n",
    "> For data anlaysis regarding the following questions, I'm going to use Country name, year, Life Ladder features which has no missing values; therefore, data cleaning is not necessary for the dataset.\n",
    "\n",
    "> According the box plot chart, Perception of Corruption shows several outliers, indicating extreme cases or possible errors in the data."
   ]
  },
  {
   "cell_type": "code",
   "execution_count": null,
   "id": "557a6c11",
   "metadata": {},
   "outputs": [],
   "source": [
    "df.isna().sum()"
   ]
  },
  {
   "cell_type": "code",
   "execution_count": null,
   "id": "507a993d",
   "metadata": {},
   "outputs": [],
   "source": [
    "df.boxplot(column = ['Social support', 'Freedom to make life choices', 'Generosity', 'Perceptions of corruption', 'Positive affect', 'Negative affect'], figsize=(10, 8), fontsize=8)"
   ]
  },
  {
   "cell_type": "code",
   "execution_count": null,
   "id": "113b44f0",
   "metadata": {},
   "outputs": [],
   "source": [
    "df.plot(kind='scatter', x = 'Positive affect', y = 'Life Ladder')"
   ]
  },
  {
   "cell_type": "markdown",
   "id": "109b31c5",
   "metadata": {},
   "source": [
    "## Q2"
   ]
  },
  {
   "cell_type": "markdown",
   "id": "99c36ab9",
   "metadata": {},
   "source": [
    "### What is the happiest country in 2022? In 2013? Of all time? "
   ]
  },
  {
   "cell_type": "markdown",
   "id": "8318ddee",
   "metadata": {},
   "source": [
    "> In 2022, Finland was the happiest country, achieving the hightest Life Ladder mean value of 7.72. For 2013, Canada held this distinction, with the highest mean Life Ladder value of 7.59. Overall, considering the average Life Ladder scores across all years, Denmark(7.67) emerges as the happiest country of all time, closely followed by finland(7.61)."
   ]
  },
  {
   "cell_type": "markdown",
   "id": "85e2de83",
   "metadata": {},
   "source": [
    "### What is the least happy country in 2022, 2013 and of all time?"
   ]
  },
  {
   "cell_type": "markdown",
   "id": "5259c5e0",
   "metadata": {},
   "source": [
    "> In 2022, Afghanistan was identified as the least happy country, recording the lowest mean value of 1.28 in Life Ladder data. For 2013, Syria held this position with a Life Ladder score of 2.68. Overall, considering the data across all years, Afghanistan has been the least happy country."
   ]
  },
  {
   "cell_type": "code",
   "execution_count": null,
   "id": "2889e94e",
   "metadata": {},
   "outputs": [],
   "source": [
    "df2022 = df[df.year == 2022][['Country name', 'Life Ladder']]\n",
    "df2022.groupby('Country name').agg(['mean']).sort_values(('Life Ladder', 'mean'), ascending=False)"
   ]
  },
  {
   "cell_type": "code",
   "execution_count": null,
   "id": "ac80d3c6",
   "metadata": {},
   "outputs": [],
   "source": [
    "df2013 = df[df.year == 2013][['Country name', 'Life Ladder']]\n",
    "df2013.groupby('Country name').agg(['mean']).sort_values(('Life Ladder', 'mean'), ascending=False)"
   ]
  },
  {
   "cell_type": "code",
   "execution_count": null,
   "id": "0b983270",
   "metadata": {},
   "outputs": [],
   "source": [
    "df_all = df[['Country name', 'Life Ladder']]\n",
    "df_all.groupby('Country name').agg(['mean']).sort_values(('Life Ladder', 'mean'), ascending=False)"
   ]
  },
  {
   "cell_type": "markdown",
   "id": "26449837",
   "metadata": {},
   "source": [
    "## Q3. \n",
    "### Of the countries in this dataset, which country had the largest increase in happiness from its start of participation to 2022? "
   ]
  },
  {
   "cell_type": "markdown",
   "id": "66db10f7",
   "metadata": {},
   "source": [
    "> Congo (Brazzaville) has the largest increase in happiness from 2008 to 2022. "
   ]
  },
  {
   "cell_type": "markdown",
   "id": "b93b1f2a",
   "metadata": {},
   "source": [
    "### Which had the largest decrease in happiness?"
   ]
  },
  {
   "cell_type": "markdown",
   "id": "ae7f5965",
   "metadata": {},
   "source": [
    "> Lebanon has the largest increase in happiness from 2005 to 2022. "
   ]
  },
  {
   "cell_type": "code",
   "execution_count": null,
   "id": "7704e428",
   "metadata": {},
   "outputs": [],
   "source": [
    "df_sorted = df.sort_values(by=['Country name', 'year'])[['Country name', 'year', 'Life Ladder']]\n",
    "df_sorted"
   ]
  },
  {
   "cell_type": "code",
   "execution_count": null,
   "id": "29969131",
   "metadata": {},
   "outputs": [],
   "source": [
    "df_first_year = df_sorted.groupby('Country name').first().reset_index()\n",
    "df_first_year = df_first_year.rename(columns={'Life Ladder' : 'The First year Life Ladder'})\n",
    "df_first_year = df_first_year.drop(columns = ['year'])\n",
    "df_first_year"
   ]
  },
  {
   "cell_type": "code",
   "execution_count": null,
   "id": "8582272a",
   "metadata": {},
   "outputs": [],
   "source": [
    "df_last_year = df_sorted.groupby('Country name').last().reset_index()[['Country name', 'Life Ladder']]\n",
    "df_last_year = df_last_year.rename(columns={'Life Ladder' : 'The Last year Life Ladder'})\n",
    "df_last_year"
   ]
  },
  {
   "cell_type": "code",
   "execution_count": null,
   "id": "ddfca49d",
   "metadata": {},
   "outputs": [],
   "source": [
    "merged = pd.merge(df_first_year, df_last_year, how='outer', on='Country name')\n",
    "merged['difference'] = merged['The Last year Life Ladder'] - merged['The First year Life Ladder']\n",
    "merged.sort_values(by=['difference'], ascending=False)"
   ]
  },
  {
   "cell_type": "code",
   "execution_count": null,
   "id": "c9f1f519",
   "metadata": {},
   "outputs": [],
   "source": [
    "# The Country which has the largest increase in happiness from 2008 to 2022.\n",
    "df_sorted[df_sorted['Country name'] == 'Congo (Brazzaville)']"
   ]
  },
  {
   "cell_type": "code",
   "execution_count": null,
   "id": "aa8e620a",
   "metadata": {},
   "outputs": [],
   "source": [
    "# The Country which has the largest decrease in happiness from 2005 to 2022\n",
    "df_sorted[df_sorted['Country name'] == 'Lebanon']"
   ]
  },
  {
   "cell_type": "code",
   "execution_count": null,
   "id": "cdca953d",
   "metadata": {},
   "outputs": [],
   "source": []
  }
 ],
 "metadata": {
  "kernelspec": {
   "display_name": "Python 3 (ipykernel)",
   "language": "python",
   "name": "python3"
  },
  "language_info": {
   "codemirror_mode": {
    "name": "ipython",
    "version": 3
   },
   "file_extension": ".py",
   "mimetype": "text/x-python",
   "name": "python",
   "nbconvert_exporter": "python",
   "pygments_lexer": "ipython3",
   "version": "3.10.9"
  }
 },
 "nbformat": 4,
 "nbformat_minor": 5
}
